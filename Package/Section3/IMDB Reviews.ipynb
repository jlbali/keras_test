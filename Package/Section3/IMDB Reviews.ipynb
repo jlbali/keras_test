{
 "cells": [
  {
   "cell_type": "markdown",
   "metadata": {},
   "source": [
    "## Importing data from IMDB"
   ]
  },
  {
   "cell_type": "code",
   "execution_count": 3,
   "metadata": {},
   "outputs": [
    {
     "data": {
      "text/plain": [
       "(25000,)"
      ]
     },
     "execution_count": 3,
     "metadata": {},
     "output_type": "execute_result"
    }
   ],
   "source": [
    "from keras.datasets import imdb\n",
    "\n",
    "(train_data, train_labels), (test_data, test_labels) = imdb.load_data(num_words=10000)\n",
    "train_data.shape"
   ]
  },
  {
   "cell_type": "code",
   "execution_count": 5,
   "metadata": {},
   "outputs": [
    {
     "data": {
      "text/plain": [
       "[1,\n",
       " 4,\n",
       " 2,\n",
       " 2,\n",
       " 33,\n",
       " 2804,\n",
       " 4,\n",
       " 2040,\n",
       " 432,\n",
       " 111,\n",
       " 153,\n",
       " 103,\n",
       " 4,\n",
       " 1494,\n",
       " 13,\n",
       " 70,\n",
       " 131,\n",
       " 67,\n",
       " 11,\n",
       " 61,\n",
       " 2,\n",
       " 744,\n",
       " 35,\n",
       " 3715,\n",
       " 761,\n",
       " 61,\n",
       " 5766,\n",
       " 452,\n",
       " 9214,\n",
       " 4,\n",
       " 985,\n",
       " 7,\n",
       " 2,\n",
       " 59,\n",
       " 166,\n",
       " 4,\n",
       " 105,\n",
       " 216,\n",
       " 1239,\n",
       " 41,\n",
       " 1797,\n",
       " 9,\n",
       " 15,\n",
       " 7,\n",
       " 35,\n",
       " 744,\n",
       " 2413,\n",
       " 31,\n",
       " 8,\n",
       " 4,\n",
       " 687,\n",
       " 23,\n",
       " 4,\n",
       " 2,\n",
       " 7339,\n",
       " 6,\n",
       " 3693,\n",
       " 42,\n",
       " 38,\n",
       " 39,\n",
       " 121,\n",
       " 59,\n",
       " 456,\n",
       " 10,\n",
       " 10,\n",
       " 7,\n",
       " 265,\n",
       " 12,\n",
       " 575,\n",
       " 111,\n",
       " 153,\n",
       " 159,\n",
       " 59,\n",
       " 16,\n",
       " 1447,\n",
       " 21,\n",
       " 25,\n",
       " 586,\n",
       " 482,\n",
       " 39,\n",
       " 4,\n",
       " 96,\n",
       " 59,\n",
       " 716,\n",
       " 12,\n",
       " 4,\n",
       " 172,\n",
       " 65,\n",
       " 9,\n",
       " 579,\n",
       " 11,\n",
       " 6004,\n",
       " 4,\n",
       " 1615,\n",
       " 5,\n",
       " 2,\n",
       " 7,\n",
       " 5168,\n",
       " 17,\n",
       " 13,\n",
       " 7064,\n",
       " 12,\n",
       " 19,\n",
       " 6,\n",
       " 464,\n",
       " 31,\n",
       " 314,\n",
       " 11,\n",
       " 2,\n",
       " 6,\n",
       " 719,\n",
       " 605,\n",
       " 11,\n",
       " 8,\n",
       " 202,\n",
       " 27,\n",
       " 310,\n",
       " 4,\n",
       " 3772,\n",
       " 3501,\n",
       " 8,\n",
       " 2722,\n",
       " 58,\n",
       " 10,\n",
       " 10,\n",
       " 537,\n",
       " 2116,\n",
       " 180,\n",
       " 40,\n",
       " 14,\n",
       " 413,\n",
       " 173,\n",
       " 7,\n",
       " 263,\n",
       " 112,\n",
       " 37,\n",
       " 152,\n",
       " 377,\n",
       " 4,\n",
       " 537,\n",
       " 263,\n",
       " 846,\n",
       " 579,\n",
       " 178,\n",
       " 54,\n",
       " 75,\n",
       " 71,\n",
       " 476,\n",
       " 36,\n",
       " 413,\n",
       " 263,\n",
       " 2504,\n",
       " 182,\n",
       " 5,\n",
       " 17,\n",
       " 75,\n",
       " 2306,\n",
       " 922,\n",
       " 36,\n",
       " 279,\n",
       " 131,\n",
       " 2895,\n",
       " 17,\n",
       " 2867,\n",
       " 42,\n",
       " 17,\n",
       " 35,\n",
       " 921,\n",
       " 2,\n",
       " 192,\n",
       " 5,\n",
       " 1219,\n",
       " 3890,\n",
       " 19,\n",
       " 2,\n",
       " 217,\n",
       " 4122,\n",
       " 1710,\n",
       " 537,\n",
       " 2,\n",
       " 1236,\n",
       " 5,\n",
       " 736,\n",
       " 10,\n",
       " 10,\n",
       " 61,\n",
       " 403,\n",
       " 9,\n",
       " 2,\n",
       " 40,\n",
       " 61,\n",
       " 4494,\n",
       " 5,\n",
       " 27,\n",
       " 4494,\n",
       " 159,\n",
       " 90,\n",
       " 263,\n",
       " 2311,\n",
       " 4319,\n",
       " 309,\n",
       " 8,\n",
       " 178,\n",
       " 5,\n",
       " 82,\n",
       " 4319,\n",
       " 4,\n",
       " 65,\n",
       " 15,\n",
       " 9225,\n",
       " 145,\n",
       " 143,\n",
       " 5122,\n",
       " 12,\n",
       " 7039,\n",
       " 537,\n",
       " 746,\n",
       " 537,\n",
       " 537,\n",
       " 15,\n",
       " 7979,\n",
       " 4,\n",
       " 2,\n",
       " 594,\n",
       " 7,\n",
       " 5168,\n",
       " 94,\n",
       " 9096,\n",
       " 3987,\n",
       " 2,\n",
       " 11,\n",
       " 2,\n",
       " 4,\n",
       " 538,\n",
       " 7,\n",
       " 1795,\n",
       " 246,\n",
       " 2,\n",
       " 9,\n",
       " 2,\n",
       " 11,\n",
       " 635,\n",
       " 14,\n",
       " 9,\n",
       " 51,\n",
       " 408,\n",
       " 12,\n",
       " 94,\n",
       " 318,\n",
       " 1382,\n",
       " 12,\n",
       " 47,\n",
       " 6,\n",
       " 2683,\n",
       " 936,\n",
       " 5,\n",
       " 6307,\n",
       " 2,\n",
       " 19,\n",
       " 49,\n",
       " 7,\n",
       " 4,\n",
       " 1885,\n",
       " 2,\n",
       " 1118,\n",
       " 25,\n",
       " 80,\n",
       " 126,\n",
       " 842,\n",
       " 10,\n",
       " 10,\n",
       " 2,\n",
       " 2,\n",
       " 4726,\n",
       " 27,\n",
       " 4494,\n",
       " 11,\n",
       " 1550,\n",
       " 3633,\n",
       " 159,\n",
       " 27,\n",
       " 341,\n",
       " 29,\n",
       " 2733,\n",
       " 19,\n",
       " 4185,\n",
       " 173,\n",
       " 7,\n",
       " 90,\n",
       " 2,\n",
       " 8,\n",
       " 30,\n",
       " 11,\n",
       " 4,\n",
       " 1784,\n",
       " 86,\n",
       " 1117,\n",
       " 8,\n",
       " 3261,\n",
       " 46,\n",
       " 11,\n",
       " 2,\n",
       " 21,\n",
       " 29,\n",
       " 9,\n",
       " 2841,\n",
       " 23,\n",
       " 4,\n",
       " 1010,\n",
       " 2,\n",
       " 793,\n",
       " 6,\n",
       " 2,\n",
       " 1386,\n",
       " 1830,\n",
       " 10,\n",
       " 10,\n",
       " 246,\n",
       " 50,\n",
       " 9,\n",
       " 6,\n",
       " 2750,\n",
       " 1944,\n",
       " 746,\n",
       " 90,\n",
       " 29,\n",
       " 2,\n",
       " 8,\n",
       " 124,\n",
       " 4,\n",
       " 882,\n",
       " 4,\n",
       " 882,\n",
       " 496,\n",
       " 27,\n",
       " 2,\n",
       " 2213,\n",
       " 537,\n",
       " 121,\n",
       " 127,\n",
       " 1219,\n",
       " 130,\n",
       " 5,\n",
       " 29,\n",
       " 494,\n",
       " 8,\n",
       " 124,\n",
       " 4,\n",
       " 882,\n",
       " 496,\n",
       " 4,\n",
       " 341,\n",
       " 7,\n",
       " 27,\n",
       " 846,\n",
       " 10,\n",
       " 10,\n",
       " 29,\n",
       " 9,\n",
       " 1906,\n",
       " 8,\n",
       " 97,\n",
       " 6,\n",
       " 236,\n",
       " 2,\n",
       " 1311,\n",
       " 8,\n",
       " 4,\n",
       " 2,\n",
       " 7,\n",
       " 31,\n",
       " 7,\n",
       " 2,\n",
       " 91,\n",
       " 2,\n",
       " 3987,\n",
       " 70,\n",
       " 4,\n",
       " 882,\n",
       " 30,\n",
       " 579,\n",
       " 42,\n",
       " 9,\n",
       " 12,\n",
       " 32,\n",
       " 11,\n",
       " 537,\n",
       " 10,\n",
       " 10,\n",
       " 11,\n",
       " 14,\n",
       " 65,\n",
       " 44,\n",
       " 537,\n",
       " 75,\n",
       " 2,\n",
       " 1775,\n",
       " 3353,\n",
       " 2,\n",
       " 1846,\n",
       " 4,\n",
       " 2,\n",
       " 7,\n",
       " 154,\n",
       " 5,\n",
       " 4,\n",
       " 518,\n",
       " 53,\n",
       " 2,\n",
       " 2,\n",
       " 7,\n",
       " 3211,\n",
       " 882,\n",
       " 11,\n",
       " 399,\n",
       " 38,\n",
       " 75,\n",
       " 257,\n",
       " 3807,\n",
       " 19,\n",
       " 2,\n",
       " 17,\n",
       " 29,\n",
       " 456,\n",
       " 4,\n",
       " 65,\n",
       " 7,\n",
       " 27,\n",
       " 205,\n",
       " 113,\n",
       " 10,\n",
       " 10,\n",
       " 2,\n",
       " 4,\n",
       " 2,\n",
       " 2,\n",
       " 9,\n",
       " 242,\n",
       " 4,\n",
       " 91,\n",
       " 1202,\n",
       " 2,\n",
       " 5,\n",
       " 2070,\n",
       " 307,\n",
       " 22,\n",
       " 7,\n",
       " 5168,\n",
       " 126,\n",
       " 93,\n",
       " 40,\n",
       " 2,\n",
       " 13,\n",
       " 188,\n",
       " 1076,\n",
       " 3222,\n",
       " 19,\n",
       " 4,\n",
       " 2,\n",
       " 7,\n",
       " 2348,\n",
       " 537,\n",
       " 23,\n",
       " 53,\n",
       " 537,\n",
       " 21,\n",
       " 82,\n",
       " 40,\n",
       " 2,\n",
       " 13,\n",
       " 2,\n",
       " 14,\n",
       " 280,\n",
       " 13,\n",
       " 219,\n",
       " 4,\n",
       " 2,\n",
       " 431,\n",
       " 758,\n",
       " 859,\n",
       " 4,\n",
       " 953,\n",
       " 1052,\n",
       " 2,\n",
       " 7,\n",
       " 5991,\n",
       " 5,\n",
       " 94,\n",
       " 40,\n",
       " 25,\n",
       " 238,\n",
       " 60,\n",
       " 2,\n",
       " 4,\n",
       " 2,\n",
       " 804,\n",
       " 2,\n",
       " 7,\n",
       " 4,\n",
       " 9941,\n",
       " 132,\n",
       " 8,\n",
       " 67,\n",
       " 6,\n",
       " 22,\n",
       " 15,\n",
       " 9,\n",
       " 283,\n",
       " 8,\n",
       " 5168,\n",
       " 14,\n",
       " 31,\n",
       " 9,\n",
       " 242,\n",
       " 955,\n",
       " 48,\n",
       " 25,\n",
       " 279,\n",
       " 2,\n",
       " 23,\n",
       " 12,\n",
       " 1685,\n",
       " 195,\n",
       " 25,\n",
       " 238,\n",
       " 60,\n",
       " 796,\n",
       " 2,\n",
       " 4,\n",
       " 671,\n",
       " 7,\n",
       " 2804,\n",
       " 5,\n",
       " 4,\n",
       " 559,\n",
       " 154,\n",
       " 888,\n",
       " 7,\n",
       " 726,\n",
       " 50,\n",
       " 26,\n",
       " 49,\n",
       " 7008,\n",
       " 15,\n",
       " 566,\n",
       " 30,\n",
       " 579,\n",
       " 21,\n",
       " 64,\n",
       " 2574]"
      ]
     },
     "execution_count": 5,
     "metadata": {},
     "output_type": "execute_result"
    }
   ],
   "source": [
    "train_data[3] # Un review"
   ]
  },
  {
   "cell_type": "code",
   "execution_count": 7,
   "metadata": {},
   "outputs": [
    {
     "data": {
      "text/plain": [
       "1"
      ]
     },
     "execution_count": 7,
     "metadata": {},
     "output_type": "execute_result"
    }
   ],
   "source": [
    "train_labels[3] # Es un review positivo"
   ]
  },
  {
   "cell_type": "code",
   "execution_count": 26,
   "metadata": {},
   "outputs": [
    {
     "name": "stdout",
     "output_type": "stream",
     "text": [
      "Review 3:  ? the ? ? at storytelling the traditional sort many years after the event i can still see in my ? eye an elderly lady my friend's mother retelling the battle of ? she makes the characters come alive her passion is that of an eye witness one to the events on the ? heath a mile or so from where she lives br br of course it happened many years before she was born but you wouldn't guess from the way she tells it the same story is told in bars the length and ? of scotland as i discussed it with a friend one night in ? a local cut in to give his version the discussion continued to closing time br br stories passed down like this become part of our being who doesn't remember the stories our parents told us when we were children they become our invisible world and as we grow older they maybe still serve as inspiration or as an emotional ? fact and fiction blend with ? role models warning stories ? magic and mystery br br my name is ? like my grandfather and his grandfather before him our protagonist introduces himself to us and also introduces the story that stretches back through generations it produces stories within stories stories that evoke the ? wonder of scotland its rugged mountains ? in ? the stuff of legend yet ? is ? in reality this is what gives it its special charm it has a rough beauty and authenticity ? with some of the finest ? singing you will ever hear br br ? ? visits his grandfather in hospital shortly before his death he burns with frustration part of him ? to be in the twenty first century to hang out in ? but he is raised on the western ? among a ? speaking community br br yet there is a deeper conflict within him he ? to know the truth the truth behind his ? ancient stories where does fiction end and he wants to know the truth behind the death of his parents br br he is pulled to make a last ? journey to the ? of one of ? most ? mountains can the truth be told or is it all in stories br br in this story about stories we ? bloody battles ? lovers the ? of old and the sometimes more ? ? of accepted truth in doing so we each connect with ? as he lives the story of his own life br br ? the ? ? is probably the most honest ? and genuinely beautiful film of scotland ever made like ? i got slightly annoyed with the ? of hanging stories on more stories but also like ? i ? this once i saw the ? picture ' forget the box office ? of braveheart and its like you might even ? the ? famous ? of the wicker man to see a film that is true to scotland this one is probably unique if you maybe ? on it deeply enough you might even re ? the power of storytelling and the age old question of whether there are some truths that cannot be told but only experienced\n"
     ]
    }
   ],
   "source": [
    "# Original \"text\" review\n",
    "word_index = imdb.get_word_index()\n",
    "reverse_word_index = dict([(value, key) for (key, value) in word_index.items()])\n",
    "\n",
    "def decode_review(num_review):\n",
    "    #print(\"Num Review:\", num_review)\n",
    "    decoded_review = ' '.join([reverse_word_index.get(x - 3, '?') for x in num_review])\n",
    "    return decoded_review\n",
    "\n",
    "print(\"Review 3: \", decode_review(train_data[3]))\n",
    "#word_index\n",
    "#reverse_word_index[10]\n"
   ]
  },
  {
   "cell_type": "markdown",
   "metadata": {},
   "source": [
    "## Preprocessing of the Data\n",
    "Converting them to a one-hot encoding (dummy dichotomic variable)"
   ]
  },
  {
   "cell_type": "code",
   "execution_count": 28,
   "metadata": {},
   "outputs": [
    {
     "data": {
      "text/plain": [
       "array([[0., 1., 1., ..., 0., 0., 0.],\n",
       "       [0., 1., 1., ..., 0., 0., 0.],\n",
       "       [0., 1., 1., ..., 0., 0., 0.],\n",
       "       ...,\n",
       "       [0., 1., 1., ..., 0., 0., 0.],\n",
       "       [0., 1., 1., ..., 0., 0., 0.],\n",
       "       [0., 1., 1., ..., 0., 0., 0.]])"
      ]
     },
     "execution_count": 28,
     "metadata": {},
     "output_type": "execute_result"
    }
   ],
   "source": [
    "import numpy as np\n",
    "\n",
    "def vectorize_sequences(sequences, dimension=10000):\n",
    "    results = np.zeros((len(sequences), dimension))\n",
    "    #for i, sequence in enumerate(sequences):\n",
    "    #    results[i, sequence] = 1\n",
    "    for i in range(sequences.shape[0]):\n",
    "        for num in sequences[i]:\n",
    "            results[i, num] = 1\n",
    "    return results\n",
    "\n",
    "x_train = vectorize_sequences(train_data)\n",
    "x_test = vectorize_sequences(test_data)\n",
    "x_train"
   ]
  },
  {
   "cell_type": "code",
   "execution_count": 29,
   "metadata": {},
   "outputs": [
    {
     "data": {
      "text/plain": [
       "array([0., 1., 1., ..., 0., 0., 0.])"
      ]
     },
     "execution_count": 29,
     "metadata": {},
     "output_type": "execute_result"
    }
   ],
   "source": [
    "x_train[100,:]"
   ]
  },
  {
   "cell_type": "code",
   "execution_count": 30,
   "metadata": {},
   "outputs": [
    {
     "data": {
      "text/plain": [
       "array([0., 1., 1., ..., 0., 0., 0.])"
      ]
     },
     "execution_count": 30,
     "metadata": {},
     "output_type": "execute_result"
    }
   ],
   "source": [
    "x_train[176,:]"
   ]
  },
  {
   "cell_type": "code",
   "execution_count": 32,
   "metadata": {},
   "outputs": [
    {
     "name": "stdout",
     "output_type": "stream",
     "text": [
      "0.0\n"
     ]
    }
   ],
   "source": [
    "print(x_train[160,206])\n"
   ]
  },
  {
   "cell_type": "code",
   "execution_count": 33,
   "metadata": {
    "collapsed": true
   },
   "outputs": [],
   "source": [
    "# Preprocess labels\n",
    "y_train = np.asarray(train_labels).astype('float32')\n",
    "y_test  = np.asarray(test_labels).astype('float32')"
   ]
  },
  {
   "cell_type": "markdown",
   "metadata": {},
   "source": [
    "## Neural Network"
   ]
  },
  {
   "cell_type": "code",
   "execution_count": 44,
   "metadata": {},
   "outputs": [],
   "source": [
    "from keras import models\n",
    "from keras import layers\n",
    "from keras import optimizers\n",
    "from keras import losses\n",
    "from keras import metrics\n",
    "\n",
    "\n",
    "model = models.Sequential()\n",
    "model.add(layers.Dense(16, activation='relu', input_shape=(10000,)))\n",
    "model.add(layers.Dense(16, activation='relu'))\n",
    "model.add(layers.Dense(1, activation='sigmoid'))\n",
    "#model.compile(optimizer='rmsprop',\n",
    "#    loss='binary_crossentropy',\n",
    "#    metrics=['accuracy'])\n",
    "#model.compile(optimizer=optimizers.RMSprop(lr=0.001),\n",
    "#    loss='binary_crossentropy',\n",
    "#    metrics=['accuracy'])\n",
    "model.compile(optimizer=optimizers.RMSprop(lr=0.001),\n",
    "    loss=losses.binary_crossentropy,\n",
    "    metrics=[metrics.binary_accuracy])\n"
   ]
  },
  {
   "cell_type": "code",
   "execution_count": 45,
   "metadata": {
    "collapsed": true
   },
   "outputs": [],
   "source": [
    "# Validation Set from the training Set.\n",
    "x_val = x_train[:10000]\n",
    "partial_x_train = x_train[10000:]\n",
    "y_val = y_train[:10000]\n",
    "partial_y_train = y_train[10000:]"
   ]
  },
  {
   "cell_type": "code",
   "execution_count": 46,
   "metadata": {},
   "outputs": [
    {
     "name": "stdout",
     "output_type": "stream",
     "text": [
      "Train on 15000 samples, validate on 10000 samples\n",
      "Epoch 1/20\n",
      "15000/15000 [==============================] - 1s 76us/step - loss: 0.5224 - binary_accuracy: 0.7836 - val_loss: 0.3938 - val_binary_accuracy: 0.8667\n",
      "Epoch 2/20\n",
      "15000/15000 [==============================] - 1s 62us/step - loss: 0.3159 - binary_accuracy: 0.8980 - val_loss: 0.3164 - val_binary_accuracy: 0.8806\n",
      "Epoch 3/20\n",
      "15000/15000 [==============================] - 1s 63us/step - loss: 0.2300 - binary_accuracy: 0.9254 - val_loss: 0.2791 - val_binary_accuracy: 0.8921\n",
      "Epoch 4/20\n",
      "15000/15000 [==============================] - 1s 62us/step - loss: 0.1810 - binary_accuracy: 0.9395 - val_loss: 0.2893 - val_binary_accuracy: 0.8818\n",
      "Epoch 5/20\n",
      "15000/15000 [==============================] - 1s 62us/step - loss: 0.1435 - binary_accuracy: 0.9530 - val_loss: 0.3010 - val_binary_accuracy: 0.8827\n",
      "Epoch 6/20\n",
      "15000/15000 [==============================] - 1s 62us/step - loss: 0.1185 - binary_accuracy: 0.9618 - val_loss: 0.2913 - val_binary_accuracy: 0.8856\n",
      "Epoch 7/20\n",
      "15000/15000 [==============================] - 1s 64us/step - loss: 0.0976 - binary_accuracy: 0.9709 - val_loss: 0.3085 - val_binary_accuracy: 0.8835\n",
      "Epoch 8/20\n",
      "15000/15000 [==============================] - 1s 63us/step - loss: 0.0776 - binary_accuracy: 0.9773 - val_loss: 0.3383 - val_binary_accuracy: 0.8820\n",
      "Epoch 9/20\n",
      "15000/15000 [==============================] - 1s 63us/step - loss: 0.0620 - binary_accuracy: 0.9850 - val_loss: 0.4155 - val_binary_accuracy: 0.8623\n",
      "Epoch 10/20\n",
      "15000/15000 [==============================] - 1s 63us/step - loss: 0.0496 - binary_accuracy: 0.9873 - val_loss: 0.3799 - val_binary_accuracy: 0.8788\n",
      "Epoch 11/20\n",
      "15000/15000 [==============================] - 1s 62us/step - loss: 0.0409 - binary_accuracy: 0.9907 - val_loss: 0.4218 - val_binary_accuracy: 0.8776\n",
      "Epoch 12/20\n",
      "15000/15000 [==============================] - 1s 62us/step - loss: 0.0306 - binary_accuracy: 0.9939 - val_loss: 0.4367 - val_binary_accuracy: 0.8768\n",
      "Epoch 13/20\n",
      "15000/15000 [==============================] - 1s 63us/step - loss: 0.0249 - binary_accuracy: 0.9949 - val_loss: 0.4714 - val_binary_accuracy: 0.8743\n",
      "Epoch 14/20\n",
      "15000/15000 [==============================] - 1s 62us/step - loss: 0.0190 - binary_accuracy: 0.9964 - val_loss: 0.5030 - val_binary_accuracy: 0.8726\n",
      "Epoch 15/20\n",
      "15000/15000 [==============================] - 1s 64us/step - loss: 0.0163 - binary_accuracy: 0.9969 - val_loss: 0.5254 - val_binary_accuracy: 0.8711\n",
      "Epoch 16/20\n",
      "15000/15000 [==============================] - 1s 67us/step - loss: 0.0095 - binary_accuracy: 0.9993 - val_loss: 0.6060 - val_binary_accuracy: 0.8648\n",
      "Epoch 17/20\n",
      "15000/15000 [==============================] - 1s 70us/step - loss: 0.0111 - binary_accuracy: 0.9977 - val_loss: 0.5845 - val_binary_accuracy: 0.8668\n",
      "Epoch 18/20\n",
      "15000/15000 [==============================] - 1s 67us/step - loss: 0.0047 - binary_accuracy: 0.9998 - val_loss: 0.6185 - val_binary_accuracy: 0.8658\n",
      "Epoch 19/20\n",
      "15000/15000 [==============================] - 1s 67us/step - loss: 0.0075 - binary_accuracy: 0.9987 - val_loss: 0.6389 - val_binary_accuracy: 0.8679\n",
      "Epoch 20/20\n",
      "15000/15000 [==============================] - 1s 64us/step - loss: 0.0027 - binary_accuracy: 0.9999 - val_loss: 0.6701 - val_binary_accuracy: 0.8664\n"
     ]
    }
   ],
   "source": [
    "# Training...\n",
    "epochs = 20\n",
    "history = model.fit(partial_x_train,\n",
    "    partial_y_train,\n",
    "    epochs=epochs,\n",
    "    batch_size=512,\n",
    "    validation_data=(x_val, y_val))\n"
   ]
  },
  {
   "cell_type": "code",
   "execution_count": 67,
   "metadata": {},
   "outputs": [
    {
     "data": {
      "text/plain": [
       "dict_keys(['val_loss', 'val_binary_accuracy', 'loss', 'binary_accuracy'])"
      ]
     },
     "execution_count": 67,
     "metadata": {},
     "output_type": "execute_result"
    }
   ],
   "source": [
    "# Plotting training process\n",
    "import matplotlib.pyplot as plt\n",
    "\n",
    "def plot_history_loss(history, epochs):\n",
    "    history_dict = history.history\n",
    "    loss_values = history_dict['loss']\n",
    "    val_loss_values = history_dict['val_loss']\n",
    "    epochs = range(1, epochs + 1)\n",
    "    plt.plot(epochs, loss_values, 'bo', label='Training loss')\n",
    "    plt.plot(epochs, val_loss_values, 'b', label='Validation loss')\n",
    "    plt.title('Training and validation loss')\n",
    "    plt.xlabel('Epochs')\n",
    "    plt.ylabel('Loss')\n",
    "    plt.legend()\n",
    "    plt.show()\n",
    "\n",
    "def plot_history_acc(history, epochs):\n",
    "    history_dict = history.history\n",
    "    loss_values = history_dict['binary_accuracy']\n",
    "    val_loss_values = history_dict['val_binary_accuracy']\n",
    "    epochs = range(1, epochs + 1)\n",
    "    plt.plot(epochs, loss_values, 'bo', label='Training')\n",
    "    plt.plot(epochs, val_loss_values, 'b', label='Validation')\n",
    "    plt.title('Training and validation Accuracy')\n",
    "    plt.xlabel('Epochs')\n",
    "    plt.ylabel('Acc')\n",
    "    plt.legend()\n",
    "    plt.show()\n",
    "    \n",
    "history.history.keys()"
   ]
  },
  {
   "cell_type": "code",
   "execution_count": 68,
   "metadata": {},
   "outputs": [
    {
     "data": {
      "image/png": "[encoded data removed]",
      "text/plain": [
       "<matplotlib.figure.Figure at 0x7fd121b8cbe0>"
      ]
     },
     "metadata": {},
     "output_type": "display_data"
    }
   ],
   "source": [
    "plot_history_loss(history, epochs)"
   ]
  },
  {
   "cell_type": "code",
   "execution_count": 69,
   "metadata": {},
   "outputs": [
    {
     "data": {
      "image/png": "[encoded data removed]",
      "text/plain": [
       "<matplotlib.figure.Figure at 0x7fd12374e780>"
      ]
     },
     "metadata": {},
     "output_type": "display_data"
    }
   ],
   "source": [
    "plot_history_acc(history, epochs)"
   ]
  },
  {
   "cell_type": "code",
   "execution_count": 70,
   "metadata": {
    "collapsed": true
   },
   "outputs": [],
   "source": [
    "# Overfit detectado, el validation accuracy no mejora.\n"
   ]
  },
  {
   "cell_type": "code",
   "execution_count": 75,
   "metadata": {},
   "outputs": [
    {
     "name": "stdout",
     "output_type": "stream",
     "text": [
      "Label obtenido 1 y label correcto 1.0\n"
     ]
    }
   ],
   "source": [
    "# Veamos en el testing.\n",
    "# Un caso.\n",
    "label = model.predict_classes(x_test[45:46])\n",
    "print(\"Label obtenido\", label[0][0], \"y label correcto\", y_test[45])"
   ]
  },
  {
   "cell_type": "code",
   "execution_count": 76,
   "metadata": {},
   "outputs": [
    {
     "name": "stdout",
     "output_type": "stream",
     "text": [
      "25000/25000 [==============================] - 2s 71us/step\n"
     ]
    },
    {
     "data": {
      "text/plain": [
       "0.8508"
      ]
     },
     "execution_count": 76,
     "metadata": {},
     "output_type": "execute_result"
    }
   ],
   "source": [
    "# Testing set metrics.\n",
    "test_loss, test_acc = model.evaluate(x_test, y_test)\n",
    "test_acc"
   ]
  },
  {
   "cell_type": "code",
   "execution_count": null,
   "metadata": {
    "collapsed": true
   },
   "outputs": [],
   "source": []
  }
 ],
 "metadata": {
  "kernelspec": {
   "display_name": "Python 3",
   "language": "python",
   "name": "python3"
  },
  "language_info": {
   "codemirror_mode": {
    "name": "ipython",
    "version": 3
   },
   "file_extension": ".py",
   "mimetype": "text/x-python",
   "name": "python",
   "nbconvert_exporter": "python",
   "pygments_lexer": "ipython3",
   "version": "3.6.7"
  }
 },
 "nbformat": 4,
 "nbformat_minor": 2
}
