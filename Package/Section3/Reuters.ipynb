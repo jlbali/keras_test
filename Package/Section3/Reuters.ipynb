{
 "cells": [
  {
   "cell_type": "code",
   "execution_count": 1,
   "metadata": {},
   "outputs": [
    {
     "name": "stderr",
     "output_type": "stream",
     "text": [
      "Using TensorFlow backend.\n"
     ]
    },
    {
     "name": "stdout",
     "output_type": "stream",
     "text": [
      "Downloading data from https://s3.amazonaws.com/text-datasets/reuters.npz\n",
      "2113536/2110848 [==============================] - 1s 1us/step\n"
     ]
    }
   ],
   "source": [
    "from keras.datasets import reuters\n",
    "\n",
    "(train_data, train_labels), (test_data, test_labels) = reuters.load_data(\n",
    "num_words=10000)"
   ]
  },
  {
   "cell_type": "code",
   "execution_count": 2,
   "metadata": {},
   "outputs": [
    {
     "data": {
      "text/plain": [
       "[1,\n",
       " 245,\n",
       " 273,\n",
       " 207,\n",
       " 156,\n",
       " 53,\n",
       " 74,\n",
       " 160,\n",
       " 26,\n",
       " 14,\n",
       " 46,\n",
       " 296,\n",
       " 26,\n",
       " 39,\n",
       " 74,\n",
       " 2979,\n",
       " 3554,\n",
       " 14,\n",
       " 46,\n",
       " 4689,\n",
       " 4329,\n",
       " 86,\n",
       " 61,\n",
       " 3499,\n",
       " 4795,\n",
       " 14,\n",
       " 61,\n",
       " 451,\n",
       " 4329,\n",
       " 17,\n",
       " 12]"
      ]
     },
     "execution_count": 2,
     "metadata": {},
     "output_type": "execute_result"
    }
   ],
   "source": [
    "train_data[10]"
   ]
  },
  {
   "cell_type": "code",
   "execution_count": 4,
   "metadata": {},
   "outputs": [
    {
     "name": "stdout",
     "output_type": "stream",
     "text": [
      "Noticia 145:  ? a spokesman for unilever plc lt un as declined to comment on market rumours that it may be considering a bid for the u s health care group the gillette co lt ? n gillette shares are traded on the over the counter market in london and this morning stood one dollar higher at 38 dlrs in response to the bid speculation unilever dipped ? to 3 275 in a generally depressed u k market most analysts dismissed the rumours saying it was an old story and one commented that it was ? ? adding he thought unilever would not be interested in gillette gillette shares rose sharply at the beginning of the month on wall street rumours that sir james ? was building a stake in the company gillette has been the subject of repeated rumours since ronald perelman chairman of the revlon group inc lt rev made an unsuccessful bid for the company last year reuter 3\n"
     ]
    }
   ],
   "source": [
    "# decoding.\n",
    "word_index = reuters.get_word_index()\n",
    "reverse_word_index = dict([(value, key) for (key, value) in word_index.items()])\n",
    "def decode(code):\n",
    "    return ' '.join([reverse_word_index.get(i - 3, '?') for i in\n",
    "        code])\n",
    "\n",
    "print(\"Noticia 145: \", decode(train_data[145]))\n"
   ]
  },
  {
   "cell_type": "code",
   "execution_count": 42,
   "metadata": {},
   "outputs": [
    {
     "data": {
      "text/plain": [
       "(2246, 10000)"
      ]
     },
     "execution_count": 42,
     "metadata": {},
     "output_type": "execute_result"
    }
   ],
   "source": [
    "# Preprocessing\n",
    "import numpy as np\n",
    "\n",
    "def vectorize_sequences(sequences, dimension=10000):\n",
    "    results = np.zeros((len(sequences), dimension))\n",
    "    for i, sequence in enumerate(sequences):\n",
    "        results[i, sequence] = 1.\n",
    "    return results\n",
    "\n",
    "x_train = vectorize_sequences(train_data)\n",
    "x_test = vectorize_sequences(test_data)\n",
    "x_test.shape"
   ]
  },
  {
   "cell_type": "code",
   "execution_count": 10,
   "metadata": {},
   "outputs": [
    {
     "data": {
      "text/plain": [
       "array([[0., 0., 0., ..., 0., 0., 0.],\n",
       "       [0., 0., 0., ..., 0., 0., 0.],\n",
       "       [0., 0., 0., ..., 0., 0., 0.],\n",
       "       ...,\n",
       "       [0., 0., 0., ..., 0., 0., 0.],\n",
       "       [0., 0., 0., ..., 0., 0., 0.],\n",
       "       [0., 0., 0., ..., 0., 0., 0.]], dtype=float32)"
      ]
     },
     "execution_count": 10,
     "metadata": {},
     "output_type": "execute_result"
    }
   ],
   "source": [
    "from keras.utils.np_utils import to_categorical\n",
    "\n",
    "one_hot_train_labels = to_categorical(train_labels)\n",
    "one_hot_test_labels = to_categorical(test_labels)\n",
    "one_hot_train_labels"
   ]
  },
  {
   "cell_type": "code",
   "execution_count": 47,
   "metadata": {
    "collapsed": true
   },
   "outputs": [],
   "source": [
    "## Neural Network\n",
    "from keras import models\n",
    "from keras import layers\n",
    "\n",
    "model = models.Sequential()\n",
    "model.add(layers.Dense(64, activation='relu', input_shape=(10000,), name=\"Layer1\"))\n",
    "model.add(layers.Dense(64, activation='relu', name=\"Layer2\"))\n",
    "model.add(layers.Dense(46, activation='softmax', name=\"Layer3\"))\n",
    "\n",
    "model.compile(optimizer='rmsprop',\n",
    "    loss='categorical_crossentropy',\n",
    "    metrics=['accuracy'])\n"
   ]
  },
  {
   "cell_type": "code",
   "execution_count": 48,
   "metadata": {
    "collapsed": true
   },
   "outputs": [],
   "source": [
    "# Validation Set\n",
    "x_val = x_train[:1000]\n",
    "partial_x_train = x_train[1000:]\n",
    "\n",
    "y_val = one_hot_train_labels[:1000]\n",
    "partial_y_train = one_hot_train_labels[1000:]"
   ]
  },
  {
   "cell_type": "code",
   "execution_count": 49,
   "metadata": {},
   "outputs": [
    {
     "name": "stdout",
     "output_type": "stream",
     "text": [
      "Train on 7982 samples, validate on 1000 samples\n",
      "Epoch 1/20\n",
      "7982/7982 [==============================] - 1s 180us/step - loss: 2.5398 - acc: 0.5226 - val_loss: 1.6733 - val_acc: 0.6570\n",
      "Epoch 2/20\n",
      "7982/7982 [==============================] - 1s 88us/step - loss: 1.3712 - acc: 0.7121 - val_loss: 1.2758 - val_acc: 0.7210\n",
      "Epoch 3/20\n",
      "7982/7982 [==============================] - 1s 90us/step - loss: 1.0136 - acc: 0.7783 - val_loss: 1.1303 - val_acc: 0.7530\n",
      "Epoch 4/20\n",
      "7982/7982 [==============================] - 1s 84us/step - loss: 0.7975 - acc: 0.8255 - val_loss: 1.0540 - val_acc: 0.7590\n",
      "Epoch 5/20\n",
      "7982/7982 [==============================] - 1s 84us/step - loss: 0.6391 - acc: 0.8627 - val_loss: 0.9752 - val_acc: 0.7920\n",
      "Epoch 6/20\n",
      "7982/7982 [==============================] - 1s 84us/step - loss: 0.5118 - acc: 0.8921 - val_loss: 0.9104 - val_acc: 0.8130\n",
      "Epoch 7/20\n",
      "7982/7982 [==============================] - 1s 89us/step - loss: 0.4119 - acc: 0.9146 - val_loss: 0.8919 - val_acc: 0.8210\n",
      "Epoch 8/20\n",
      "7982/7982 [==============================] - 1s 93us/step - loss: 0.3352 - acc: 0.9290 - val_loss: 0.8727 - val_acc: 0.8280\n",
      "Epoch 9/20\n",
      "7982/7982 [==============================] - 1s 92us/step - loss: 0.2779 - acc: 0.9369 - val_loss: 0.9364 - val_acc: 0.8010\n",
      "Epoch 10/20\n",
      "7982/7982 [==============================] - 1s 96us/step - loss: 0.2312 - acc: 0.9463 - val_loss: 0.9170 - val_acc: 0.8150\n",
      "Epoch 11/20\n",
      "7982/7982 [==============================] - 1s 83us/step - loss: 0.2004 - acc: 0.9519 - val_loss: 0.9176 - val_acc: 0.8200\n",
      "Epoch 12/20\n",
      "7982/7982 [==============================] - 1s 83us/step - loss: 0.1819 - acc: 0.9515 - val_loss: 0.9262 - val_acc: 0.8160\n",
      "Epoch 13/20\n",
      "7982/7982 [==============================] - 1s 84us/step - loss: 0.1588 - acc: 0.9538 - val_loss: 0.9985 - val_acc: 0.8010\n",
      "Epoch 14/20\n",
      "7982/7982 [==============================] - 1s 91us/step - loss: 0.1466 - acc: 0.9557 - val_loss: 0.9669 - val_acc: 0.8060\n",
      "Epoch 15/20\n",
      "7982/7982 [==============================] - 1s 90us/step - loss: 0.1356 - acc: 0.9543 - val_loss: 0.9857 - val_acc: 0.8100\n",
      "Epoch 16/20\n",
      "7982/7982 [==============================] - 1s 97us/step - loss: 0.1276 - acc: 0.9559 - val_loss: 1.0316 - val_acc: 0.8010\n",
      "Epoch 17/20\n",
      "7982/7982 [==============================] - 1s 91us/step - loss: 0.1241 - acc: 0.9564 - val_loss: 0.9986 - val_acc: 0.8140\n",
      "Epoch 18/20\n",
      "7982/7982 [==============================] - 1s 100us/step - loss: 0.1160 - acc: 0.9597 - val_loss: 1.0183 - val_acc: 0.8170\n",
      "Epoch 19/20\n",
      "7982/7982 [==============================] - 1s 107us/step - loss: 0.1181 - acc: 0.9572 - val_loss: 1.0852 - val_acc: 0.8010\n",
      "Epoch 20/20\n",
      "7982/7982 [==============================] - 1s 95us/step - loss: 0.1104 - acc: 0.9577 - val_loss: 1.0622 - val_acc: 0.8150\n"
     ]
    }
   ],
   "source": [
    "# Training...\n",
    "epochs = 20\n",
    "history = model.fit(partial_x_train,\n",
    "    partial_y_train,\n",
    "    epochs=epochs,\n",
    "    batch_size=512,\n",
    "    validation_data=(x_val, y_val))\n",
    "\n"
   ]
  },
  {
   "cell_type": "code",
   "execution_count": 50,
   "metadata": {},
   "outputs": [
    {
     "data": {
      "image/png": "[encoded data removed]",
      "text/plain": [
       "<matplotlib.figure.Figure at 0x7fd733e34128>"
      ]
     },
     "metadata": {},
     "output_type": "display_data"
    }
   ],
   "source": [
    "import matplotlib.pyplot as plt\n",
    "\n",
    "loss = history.history['loss']\n",
    "val_loss = history.history['val_loss']\n",
    "epochs = range(1, len(loss) + 1)\n",
    "plt.plot(epochs, loss, 'bo', label='Training loss')\n",
    "plt.plot(epochs, val_loss, 'b', label='Validation loss')\n",
    "plt.title('Training and validation loss')\n",
    "plt.xlabel('Epochs')\n",
    "plt.ylabel('Loss')\n",
    "plt.legend()\n",
    "plt.show()"
   ]
  },
  {
   "cell_type": "code",
   "execution_count": 51,
   "metadata": {},
   "outputs": [
    {
     "data": {
      "image/png": "[encoded data removed]",
      "text/plain": [
       "<matplotlib.figure.Figure at 0x7fd733e31fd0>"
      ]
     },
     "metadata": {},
     "output_type": "display_data"
    }
   ],
   "source": [
    "\n",
    "acc = history.history['acc']\n",
    "val_acc = history.history['val_acc']\n",
    "plt.plot(epochs, acc, 'bo', label='Training acc')\n",
    "plt.plot(epochs, val_acc, 'b', label='Validation acc')\n",
    "plt.title('Training and validation accuracy')\n",
    "plt.xlabel('Epochs')\n",
    "plt.ylabel('Loss')\n",
    "plt.legend()\n",
    "plt.show()"
   ]
  },
  {
   "cell_type": "code",
   "execution_count": 52,
   "metadata": {},
   "outputs": [
    {
     "name": "stdout",
     "output_type": "stream",
     "text": [
      "Label obtenido 4 y label correcto 4\n"
     ]
    }
   ],
   "source": [
    "label = model.predict_classes(x_test[45:46]) # Feo tener que ingresar así para evaluar un dato.\n",
    "print(\"Label obtenido\", label[0], \"y label correcto\", test_labels[45])"
   ]
  },
  {
   "cell_type": "code",
   "execution_count": 54,
   "metadata": {},
   "outputs": [
    {
     "name": "stdout",
     "output_type": "stream",
     "text": [
      "2246/2246 [==============================] - 0s 93us/step\n"
     ]
    },
    {
     "data": {
      "text/plain": [
       "0.7871772039180766"
      ]
     },
     "execution_count": 54,
     "metadata": {},
     "output_type": "execute_result"
    }
   ],
   "source": [
    "# Testing set metrics.\n",
    "test_loss, test_acc = model.evaluate(x_test, one_hot_test_labels)\n",
    "test_acc\n"
   ]
  },
  {
   "cell_type": "code",
   "execution_count": null,
   "metadata": {
    "collapsed": true
   },
   "outputs": [],
   "source": []
  }
 ],
 "metadata": {
  "kernelspec": {
   "display_name": "Python 3",
   "language": "python",
   "name": "python3"
  },
  "language_info": {
   "codemirror_mode": {
    "name": "ipython",
    "version": 3
   },
   "file_extension": ".py",
   "mimetype": "text/x-python",
   "name": "python",
   "nbconvert_exporter": "python",
   "pygments_lexer": "ipython3",
   "version": "3.6.7"
  }
 },
 "nbformat": 4,
 "nbformat_minor": 2
}
